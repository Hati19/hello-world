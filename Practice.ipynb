{
 "cells": [
  {
   "cell_type": "markdown",
   "metadata": {},
   "source": [
    "Hello This is the tensorflow practice Arena"
   ]
  },
  {
   "cell_type": "markdown",
   "metadata": {},
   "source": [
    "## Data types\n",
    "\n",
    "\n",
    "The most significant structures in Python are lists, tuples, and dictionaries. The\n",
    "sets are integrated in Python since version 2.5 (for previous versions, they are\n",
    "available in the sets library). Lists are similar to single-dimensional arrays but\n",
    "you can create lists that contain other lists. Dictionaries are arrays that contain\n",
    "pairs of keys and values (hash table), and tuples are immutable mono-\n",
    "dimensional objects. In Python arrays can be of any type, so you can mix\n",
    "integers, strings, and so on in your lists/dictionaries and tuples. The index of the\n",
    "first object in any type of array is always zero. Negative indices are allowed and\n",
    "counting from the end of the array, -1 is the last element. Variables can refer to\n",
    "functions."
   ]
  },
  {
   "cell_type": "code",
   "execution_count": 13,
   "metadata": {},
   "outputs": [
    {
     "name": "stdout",
     "output_type": "stream",
     "text": [
      "3\n",
      "['Element 1', 2, 3.14]\n",
      "[2, 3.14]\n",
      "['Element 1', 2]\n"
     ]
    }
   ],
   "source": [
    "example = [1, [\"list1\", \"list2\"], (\"one\", \"tuple\")]\n",
    "mylist = [\"Element 1\", 2, 3.14]\n",
    "print (len(mylist))\n",
    "print( mylist [:])\n",
    "print (mylist [1:])\n",
    "print (mylist [-3:-1])"
   ]
  },
  {
   "cell_type": "markdown",
   "metadata": {},
   "source": [
    "## Strings\n",
    "Python strings are indicated either with a single quotation mark ( ' ) or double ( \" )\n",
    "and are allowed to use a notation within a delimited string on the other ( \"He\n",
    "said' hello '.\"It is valid ). Strings of multiple lines are enclosed in triple\n",
    "(or single) quotes ( \"\"\" ). Python supports unicode; just use the syntax: \"This is\n",
    "a unicode string\" . To insert values into a string , use the % operator (modulo)\n",
    "and a tuple. Each % is replaced by a tuple element, from left to right, and is\n",
    "permitted to use a dictionary for the replacements."
   ]
  },
  {
   "cell_type": "code",
   "execution_count": 18,
   "metadata": {},
   "outputs": [
    {
     "name": "stdout",
     "output_type": "stream",
     "text": [
      "Nome: Sibaji\n",
      "Number: 3\n",
      "String: ---\n",
      "This is un test.\n"
     ]
    }
   ],
   "source": [
    "print(\"Nome: %s\\nNumber: %s\\nString: %s\" % ('Sibaji', 3, 3* \"-\"))\n",
    "print (\"This %(verb)s un %(name)s.\" % {\"name\": \"test\", \"verb\": \"is\"})"
   ]
  },
  {
   "cell_type": "code",
   "execution_count": 23,
   "metadata": {},
   "outputs": [
    {
     "name": "stdout",
     "output_type": "stream",
     "text": [
      "0\n",
      "1\n",
      "2\n",
      "3\n",
      "I don't know\n"
     ]
    },
    {
     "ename": "KeyboardInterrupt",
     "evalue": "",
     "output_type": "error",
     "traceback": [
      "\u001b[0;31m---------------------------------------------------------------------------\u001b[0m",
      "\u001b[0;31mKeyboardInterrupt\u001b[0m                         Traceback (most recent call last)",
      "\u001b[0;32m<ipython-input-23-ba1f8dc04b08>\u001b[0m in \u001b[0;36m<module>\u001b[0;34m()\u001b[0m\n\u001b[1;32m     21\u001b[0m \u001b[0;32melse\u001b[0m\u001b[0;34m:\u001b[0m\u001b[0;34m\u001b[0m\u001b[0m\n\u001b[1;32m     22\u001b[0m     \u001b[0mprint\u001b[0m \u001b[0;34m(\u001b[0m\u001b[0;34m\"I don't know\"\u001b[0m\u001b[0;34m)\u001b[0m\u001b[0;34m\u001b[0m\u001b[0m\n\u001b[0;32m---> 23\u001b[0;31m \u001b[0;32mwhile\u001b[0m \u001b[0mrangelist\u001b[0m\u001b[0;34m[\u001b[0m\u001b[0;36m1\u001b[0m\u001b[0;34m]\u001b[0m \u001b[0;34m==\u001b[0m \u001b[0;36m1\u001b[0m\u001b[0;34m:\u001b[0m\u001b[0;34m\u001b[0m\u001b[0m\n\u001b[0m\u001b[1;32m     24\u001b[0m     \u001b[0;32mpass\u001b[0m\u001b[0;34m\u001b[0m\u001b[0m\n",
      "\u001b[0;31mKeyboardInterrupt\u001b[0m: "
     ]
    }
   ],
   "source": [
    "rangelist = range(10)\n",
    "for number in rangelist:\n",
    "    if number in (3, 4, 7, 9):\n",
    "    # \"Break\" ends the for instruction without the else clause\n",
    "        print(number)\n",
    "        break\n",
    "    else:\n",
    "    # \"Continue\" continues with the next iteration of the loop\n",
    "        print(number)\n",
    "        continue\n",
    "else:\n",
    "    # this is an optional \"else\"\n",
    "    # executed only if the loop is not interrupted with \"break\".\n",
    "    print(number)\n",
    "    pass # it does nothing\n",
    "if rangelist[1] == 2:\n",
    "    \n",
    "    print (\"the second element (lists are 0-based) is 2\")\n",
    "elif rangelist[1] == 3:\n",
    "    print (\"the second element is 3\")\n",
    "else:\n",
    "    print (\"I don't know\")\n",
    "while rangelist[1] == 1:\n",
    "    pass"
   ]
  },
  {
   "cell_type": "code",
   "execution_count": 27,
   "metadata": {},
   "outputs": [
    {
     "name": "stdout",
     "output_type": "stream",
     "text": [
      "([1, 2, 3, 'new element'], 4)\n",
      "[1, 2, 3, 'new element']\n",
      "10\n"
     ]
    }
   ],
   "source": [
    "def passing_example(my_list,my_int):\n",
    "    my_list.append(\"new element\")\n",
    "    my_int = 4\n",
    "    return my_list, my_int\n",
    "input_my_list = [1, 2, 3]\n",
    "input_my_int = 10\n",
    "print( passing_example(input_my_list, input_my_int))\n",
    "print(input_my_list)\n",
    "print(input_my_int)\n"
   ]
  },
  {
   "cell_type": "code",
   "execution_count": 37,
   "metadata": {},
   "outputs": [
    {
     "name": "stdout",
     "output_type": "stream",
     "text": [
      "3\n",
      "10\n",
      "10\n",
      "30\n",
      "30\n",
      "10\n",
      "30\n",
      "10\n",
      "50\n"
     ]
    }
   ],
   "source": [
    "class Myclass:\n",
    "    common = 10\n",
    "    def __init__(self):\n",
    "        self.myvariable= 3\n",
    "    def myfunc(self, arg1, arg2):\n",
    "        return self.myvariable\n",
    "instance= Myclass()\n",
    "print(instance.myfunc(1, 2))\n",
    "instance2= Myclass()\n",
    "print(instance.common)\n",
    "print(instance2.common)\n",
    "Myclass.common = 30\n",
    "print(instance.common)\n",
    "print(instance2.common)\n",
    "instance.common = 10\n",
    "print(instance.common)\n",
    "print(instance2.common)\n",
    "Myclass.common = 50\n",
    "print(instance.common)\n",
    "print(instance2.common)"
   ]
  },
  {
   "cell_type": "markdown",
   "metadata": {},
   "source": [
    "# Testing your TensorFlow installation\n",
    "Open a terminal and type the following lines of code:"
   ]
  },
  {
   "cell_type": "code",
   "execution_count": 46,
   "metadata": {},
   "outputs": [
    {
     "name": "stdout",
     "output_type": "stream",
     "text": [
      "Hi\n"
     ]
    }
   ],
   "source": [
    "import tensorflow as tf\n",
    "hello = tf.constant('Hi')\n",
    "sess=tf.Session()\n",
    "print(sess.run(hello).decode())"
   ]
  },
  {
   "cell_type": "code",
   "execution_count": 56,
   "metadata": {},
   "outputs": [
    {
     "name": "stdout",
     "output_type": "stream",
     "text": [
      "10\n",
      "<tf.Variable 'y_9:0' shape=() dtype=int32_ref>\n",
      "10\n",
      "<tf.Variable 'y_9:0' shape=() dtype=int32_ref>\n"
     ]
    }
   ],
   "source": [
    "x = 1\n",
    "y = x + 9\n",
    "print(y)\n",
    "import tensorflow as tf\n",
    "x = tf.constant(1,name='x')\n",
    "y = tf.Variable(x+9,name='y')\n",
    "print(y)\n",
    "model = tf.global_variables_initializer()\n",
    "with tf.Session() as session:\n",
    "    session.run(model)\n",
    "    print(session.run(y))\n",
    "    print(y)"
   ]
  },
  {
   "cell_type": "code",
   "execution_count": 60,
   "metadata": {},
   "outputs": [
    {
     "name": "stdout",
     "output_type": "stream",
     "text": [
      "190\n"
     ]
    }
   ],
   "source": [
    "import tensorflow as tf\n",
    "a = tf.constant(10,name=\"a\")\n",
    "b = tf.constant(90,name=\"b\")\n",
    "y = tf.Variable(a+b*2, name=\"y\")\n",
    "model = tf.initialize_all_variables()\n",
    "with tf.Session() as session:\n",
    "    merged = tf.summary.merge_all()\n",
    "    writer = tf.summary.FileWriter\\\n",
    "    (\"tensorflowlogs\",session.graph)\n",
    "    session.run(model)\n",
    "    print(session.run(y))"
   ]
  },
  {
   "cell_type": "code",
   "execution_count": 63,
   "metadata": {},
   "outputs": [
    {
     "ename": "SyntaxError",
     "evalue": "invalid syntax (<ipython-input-63-89564aae823b>, line 1)",
     "output_type": "error",
     "traceback": [
      "\u001b[0;36m  File \u001b[0;32m\"<ipython-input-63-89564aae823b>\"\u001b[0;36m, line \u001b[0;32m1\u001b[0m\n\u001b[0;31m    python -m tensorflow.tensorboard --logdir=tensorflowlogs/\u001b[0m\n\u001b[0m                       ^\u001b[0m\n\u001b[0;31mSyntaxError\u001b[0m\u001b[0;31m:\u001b[0m invalid syntax\n"
     ]
    }
   ],
   "source": [
    "/usr/lib64/python3.6/lib-dynload\n",
    "/home/gajs/.local/lib/python3.6/site-packages\n",
    "/home/gajs/.local/lib/python3.6/site-packages/tf_unet-0.1.1-py3.6.egg\n",
    "/usr/lib64/python3.6/site-packages\n",
    "/usr/lib/python3.6/site-packages\n",
    "\n"
   ]
  }
 ],
 "metadata": {
  "kernelspec": {
   "display_name": "Python 3",
   "language": "python",
   "name": "python3"
  },
  "language_info": {
   "codemirror_mode": {
    "name": "ipython",
    "version": 3
   },
   "file_extension": ".py",
   "mimetype": "text/x-python",
   "name": "python",
   "nbconvert_exporter": "python",
   "pygments_lexer": "ipython3",
   "version": "3.6.5"
  }
 },
 "nbformat": 4,
 "nbformat_minor": 2
}
